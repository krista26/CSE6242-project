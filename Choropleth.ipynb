{
 "cells": [
  {
   "cell_type": "code",
   "execution_count": 58,
   "metadata": {},
   "outputs": [],
   "source": [
    "import pandas as pd\n",
    "import geopandas as gpd\n",
    "import plotly.express as px\n",
    "import json"
   ]
  },
  {
   "cell_type": "code",
   "execution_count": 30,
   "metadata": {},
   "outputs": [],
   "source": [
    "DATA = 'out.csv'"
   ]
  },
  {
   "cell_type": "code",
   "execution_count": 31,
   "metadata": {},
   "outputs": [],
   "source": [
    "df = pd.read_csv(DATA)"
   ]
  },
  {
   "cell_type": "code",
   "execution_count": 32,
   "metadata": {},
   "outputs": [
    {
     "name": "stdout",
     "output_type": "stream",
     "text": [
      "       Unnamed: 0          dt  AverageTemperature  \\\n",
      "0               0  1960-01-01              12.229   \n",
      "1               1  1960-02-01              17.081   \n",
      "2               2  1960-03-01              19.183   \n",
      "3               3  1960-04-01              21.587   \n",
      "4               4  1960-05-01              27.187   \n",
      "...           ...         ...                 ...   \n",
      "48442       48442  2013-05-01              19.059   \n",
      "48443       48443  2013-06-01              17.613   \n",
      "48444       48444  2013-07-01              17.000   \n",
      "48445       48445  2013-08-01              19.759   \n",
      "48446       48446  2013-09-01                 NaN   \n",
      "\n",
      "       AverageTemperatureUncertainty     ADMIN  decade  Year            CO2  \\\n",
      "0                              0.399   Algeria    1960  1960  512603.409167   \n",
      "1                              0.450   Algeria    1960  1960  512603.409167   \n",
      "2                              0.287   Algeria    1960  1960  512603.409167   \n",
      "3                              0.503   Algeria    1960  1960  512603.409167   \n",
      "4                              0.369   Algeria    1960  1960  512603.409167   \n",
      "...                              ...       ...     ...   ...            ...   \n",
      "48442                          1.022  Zimbabwe    2010  2013  961353.274167   \n",
      "48443                          0.473  Zimbabwe    2010  2013  961353.274167   \n",
      "48444                          0.453  Zimbabwe    2010  2013  961353.274167   \n",
      "48445                          0.717  Zimbabwe    2010  2013  961353.274167   \n",
      "48446                            NaN  Zimbabwe    2010  2013  961353.274167   \n",
      "\n",
      "       population   methane           gdp  \n",
      "0        11057864       NaN  2.269661e+08  \n",
      "1        11057864       NaN  2.269661e+08  \n",
      "2        11057864       NaN  2.269661e+08  \n",
      "3        11057864       NaN  2.269661e+08  \n",
      "4        11057864       NaN  2.269661e+08  \n",
      "...           ...       ...           ...  \n",
      "48442    12697728  3.114167  1.590918e+09  \n",
      "48443    12697728  3.114167  1.590918e+09  \n",
      "48444    12697728  3.114167  1.590918e+09  \n",
      "48445    12697728  3.114167  1.590918e+09  \n",
      "48446    12697728  3.114167  1.590918e+09  \n",
      "\n",
      "[48447 rows x 11 columns]\n"
     ]
    }
   ],
   "source": [
    "print(df)"
   ]
  },
  {
   "cell_type": "code",
   "execution_count": 22,
   "metadata": {},
   "outputs": [],
   "source": [
    "SHAPEFILE = 'ne_110m_admin_0_countries.shp'"
   ]
  },
  {
   "cell_type": "code",
   "execution_count": 24,
   "metadata": {},
   "outputs": [],
   "source": [
    "gdf = gpd.read_file(SHAPEFILE)"
   ]
  },
  {
   "cell_type": "code",
   "execution_count": 29,
   "metadata": {},
   "outputs": [
    {
     "name": "stdout",
     "output_type": "stream",
     "text": [
      "          featurecla  scalerank  LABELRANK                   SOVEREIGNT  \\\n",
      "0    Admin-0 country          1          6                         Fiji   \n",
      "1    Admin-0 country          1          3  United Republic of Tanzania   \n",
      "2    Admin-0 country          1          7               Western Sahara   \n",
      "3    Admin-0 country          1          2                       Canada   \n",
      "4    Admin-0 country          1          2     United States of America   \n",
      "..               ...        ...        ...                          ...   \n",
      "172  Admin-0 country          1          5           Republic of Serbia   \n",
      "173  Admin-0 country          1          6                   Montenegro   \n",
      "174  Admin-0 country          1          6                       Kosovo   \n",
      "175  Admin-0 country          1          5          Trinidad and Tobago   \n",
      "176  Admin-0 country          1          3                  South Sudan   \n",
      "\n",
      "    SOV_A3  ADM0_DIF  LEVEL               TYPE TLC  \\\n",
      "0      FJI         0      2  Sovereign country   1   \n",
      "1      TZA         0      2  Sovereign country   1   \n",
      "2      SAH         0      2      Indeterminate   1   \n",
      "3      CAN         0      2  Sovereign country   1   \n",
      "4      US1         1      2            Country   1   \n",
      "..     ...       ...    ...                ...  ..   \n",
      "172    SRB         0      2  Sovereign country   1   \n",
      "173    MNE         0      2  Sovereign country   1   \n",
      "174    KOS         0      2           Disputed   1   \n",
      "175    TTO         0      2  Sovereign country   1   \n",
      "176    SDS         0      2  Sovereign country   1   \n",
      "\n",
      "                           ADMIN  ...        FCLASS_TR     FCLASS_ID  \\\n",
      "0                           Fiji  ...             None          None   \n",
      "1    United Republic of Tanzania  ...             None          None   \n",
      "2                 Western Sahara  ...     Unrecognized  Unrecognized   \n",
      "3                         Canada  ...             None          None   \n",
      "4       United States of America  ...             None          None   \n",
      "..                           ...  ...              ...           ...   \n",
      "172           Republic of Serbia  ...             None          None   \n",
      "173                   Montenegro  ...             None          None   \n",
      "174                       Kosovo  ...  Admin-0 country  Unrecognized   \n",
      "175          Trinidad and Tobago  ...             None          None   \n",
      "176                  South Sudan  ...             None          None   \n",
      "\n",
      "           FCLASS_PL     FCLASS_GR        FCLASS_IT        FCLASS_NL  \\\n",
      "0               None          None             None             None   \n",
      "1               None          None             None             None   \n",
      "2       Unrecognized          None             None     Unrecognized   \n",
      "3               None          None             None             None   \n",
      "4               None          None             None             None   \n",
      "..               ...           ...              ...              ...   \n",
      "172             None          None             None             None   \n",
      "173             None          None             None             None   \n",
      "174  Admin-0 country  Unrecognized  Admin-0 country  Admin-0 country   \n",
      "175             None          None             None             None   \n",
      "176             None          None             None             None   \n",
      "\n",
      "           FCLASS_SE        FCLASS_BD     FCLASS_UA  \\\n",
      "0               None             None          None   \n",
      "1               None             None          None   \n",
      "2               None             None          None   \n",
      "3               None             None          None   \n",
      "4               None             None          None   \n",
      "..               ...              ...           ...   \n",
      "172             None             None          None   \n",
      "173             None             None          None   \n",
      "174  Admin-0 country  Admin-0 country  Unrecognized   \n",
      "175             None             None          None   \n",
      "176             None             None          None   \n",
      "\n",
      "                                              geometry  \n",
      "0    MULTIPOLYGON (((180.00000 -16.06713, 180.00000...  \n",
      "1    POLYGON ((33.90371 -0.95000, 34.07262 -1.05982...  \n",
      "2    POLYGON ((-8.66559 27.65643, -8.66512 27.58948...  \n",
      "3    MULTIPOLYGON (((-122.84000 49.00000, -122.9742...  \n",
      "4    MULTIPOLYGON (((-122.84000 49.00000, -120.0000...  \n",
      "..                                                 ...  \n",
      "172  POLYGON ((18.82982 45.90887, 18.82984 45.90888...  \n",
      "173  POLYGON ((20.07070 42.58863, 19.80161 42.50009...  \n",
      "174  POLYGON ((20.59025 41.85541, 20.52295 42.21787...  \n",
      "175  POLYGON ((-61.68000 10.76000, -61.10500 10.890...  \n",
      "176  POLYGON ((30.83385 3.50917, 29.95350 4.17370, ...  \n",
      "\n",
      "[177 rows x 169 columns]\n"
     ]
    }
   ],
   "source": [
    "print(gdf)"
   ]
  },
  {
   "cell_type": "code",
   "execution_count": 33,
   "metadata": {},
   "outputs": [],
   "source": [
    "merged_data = gdf.merge(df, on='ADMIN')"
   ]
  },
  {
   "cell_type": "code",
   "execution_count": 44,
   "metadata": {},
   "outputs": [
    {
     "name": "stdout",
     "output_type": "stream",
     "text": [
      "        featurecla  scalerank  LABELRANK SOVEREIGNT SOV_A3  ADM0_DIF  LEVEL  \\\n",
      "0  Admin-0 country          1          6       Fiji    FJI         0      2   \n",
      "1  Admin-0 country          1          6       Fiji    FJI         0      2   \n",
      "2  Admin-0 country          1          6       Fiji    FJI         0      2   \n",
      "3  Admin-0 country          1          6       Fiji    FJI         0      2   \n",
      "4  Admin-0 country          1          6       Fiji    FJI         0      2   \n",
      "\n",
      "                TYPE TLC ADMIN  ... Unnamed: 0          dt AverageTemperature  \\\n",
      "0  Sovereign country   1  Fiji  ...      12756  1960-01-01             26.404   \n",
      "1  Sovereign country   1  Fiji  ...      12757  1960-02-01             26.518   \n",
      "2  Sovereign country   1  Fiji  ...      12758  1960-03-01             26.625   \n",
      "3  Sovereign country   1  Fiji  ...      12759  1960-04-01             25.826   \n",
      "4  Sovereign country   1  Fiji  ...      12760  1960-05-01             25.225   \n",
      "\n",
      "  AverageTemperatureUncertainty  decade  Year           CO2  population  \\\n",
      "0                         0.238    1960  1960  16182.666667      393480   \n",
      "1                         0.239    1960  1960  16182.666667      393480   \n",
      "2                         0.270    1960  1960  16182.666667      393480   \n",
      "3                         0.227    1960  1960  16182.666667      393480   \n",
      "4                         0.328    1960  1960  16182.666667      393480   \n",
      "\n",
      "  methane           gdp  \n",
      "0     NaN  9.360702e+06  \n",
      "1     NaN  9.360702e+06  \n",
      "2     NaN  9.360702e+06  \n",
      "3     NaN  9.360702e+06  \n",
      "4     NaN  9.360702e+06  \n",
      "\n",
      "[5 rows x 179 columns]\n"
     ]
    }
   ],
   "source": [
    "print(merged_data.head())"
   ]
  },
  {
   "cell_type": "code",
   "execution_count": 61,
   "metadata": {},
   "outputs": [],
   "source": [
    "gjs = merged_data.to_json()"
   ]
  },
  {
   "cell_type": "code",
   "execution_count": 62,
   "metadata": {},
   "outputs": [],
   "source": [
    "json_2000 = json.loads(gjs)"
   ]
  },
  {
   "cell_type": "code",
   "execution_count": 68,
   "metadata": {},
   "outputs": [
    {
     "ename": "ValueError",
     "evalue": "Value of 'animation_group' is not the name of a column in 'data_frame'. Expected one of ['featurecla', 'scalerank', 'LABELRANK', 'SOVEREIGNT', 'SOV_A3', 'ADM0_DIF', 'LEVEL', 'TYPE', 'TLC', 'ADMIN', 'ADM0_A3', 'GEOU_DIF', 'GEOUNIT', 'GU_A3', 'SU_DIF', 'SUBUNIT', 'SU_A3', 'BRK_DIFF', 'NAME', 'NAME_LONG', 'BRK_A3', 'BRK_NAME', 'BRK_GROUP', 'ABBREV', 'POSTAL', 'FORMAL_EN', 'FORMAL_FR', 'NAME_CIAWF', 'NOTE_ADM0', 'NOTE_BRK', 'NAME_SORT', 'NAME_ALT', 'MAPCOLOR7', 'MAPCOLOR8', 'MAPCOLOR9', 'MAPCOLOR13', 'POP_EST', 'POP_RANK', 'POP_YEAR', 'GDP_MD', 'GDP_YEAR', 'ECONOMY', 'INCOME_GRP', 'FIPS_10', 'ISO_A2', 'ISO_A2_EH', 'ISO_A3', 'ISO_A3_EH', 'ISO_N3', 'ISO_N3_EH', 'UN_A3', 'WB_A2', 'WB_A3', 'WOE_ID', 'WOE_ID_EH', 'WOE_NOTE', 'ADM0_ISO', 'ADM0_DIFF', 'ADM0_TLC', 'ADM0_A3_US', 'ADM0_A3_FR', 'ADM0_A3_RU', 'ADM0_A3_ES', 'ADM0_A3_CN', 'ADM0_A3_TW', 'ADM0_A3_IN', 'ADM0_A3_NP', 'ADM0_A3_PK', 'ADM0_A3_DE', 'ADM0_A3_GB', 'ADM0_A3_BR', 'ADM0_A3_IL', 'ADM0_A3_PS', 'ADM0_A3_SA', 'ADM0_A3_EG', 'ADM0_A3_MA', 'ADM0_A3_PT', 'ADM0_A3_AR', 'ADM0_A3_JP', 'ADM0_A3_KO', 'ADM0_A3_VN', 'ADM0_A3_TR', 'ADM0_A3_ID', 'ADM0_A3_PL', 'ADM0_A3_GR', 'ADM0_A3_IT', 'ADM0_A3_NL', 'ADM0_A3_SE', 'ADM0_A3_BD', 'ADM0_A3_UA', 'ADM0_A3_UN', 'ADM0_A3_WB', 'CONTINENT', 'REGION_UN', 'SUBREGION', 'REGION_WB', 'NAME_LEN', 'LONG_LEN', 'ABBREV_LEN', 'TINY', 'HOMEPART', 'MIN_ZOOM', 'MIN_LABEL', 'MAX_LABEL', 'LABEL_X', 'LABEL_Y', 'NE_ID', 'WIKIDATAID', 'NAME_AR', 'NAME_BN', 'NAME_DE', 'NAME_EN', 'NAME_ES', 'NAME_FA', 'NAME_FR', 'NAME_EL', 'NAME_HE', 'NAME_HI', 'NAME_HU', 'NAME_ID', 'NAME_IT', 'NAME_JA', 'NAME_KO', 'NAME_NL', 'NAME_PL', 'NAME_PT', 'NAME_RU', 'NAME_SV', 'NAME_TR', 'NAME_UK', 'NAME_UR', 'NAME_VI', 'NAME_ZH', 'NAME_ZHT', 'FCLASS_ISO', 'TLC_DIFF', 'FCLASS_TLC', 'FCLASS_US', 'FCLASS_FR', 'FCLASS_RU', 'FCLASS_ES', 'FCLASS_CN', 'FCLASS_TW', 'FCLASS_IN', 'FCLASS_NP', 'FCLASS_PK', 'FCLASS_DE', 'FCLASS_GB', 'FCLASS_BR', 'FCLASS_IL', 'FCLASS_PS', 'FCLASS_SA', 'FCLASS_EG', 'FCLASS_MA', 'FCLASS_PT', 'FCLASS_AR', 'FCLASS_JP', 'FCLASS_KO', 'FCLASS_VN', 'FCLASS_TR', 'FCLASS_ID', 'FCLASS_PL', 'FCLASS_GR', 'FCLASS_IT', 'FCLASS_NL', 'FCLASS_SE', 'FCLASS_BD', 'FCLASS_UA', 'geometry', 'Unnamed: 0', 'dt', 'AverageTemperature', 'AverageTemperatureUncertainty', 'decade', 'Year', 'CO2', 'population', 'methane', 'gdp'] but received: country",
     "output_type": "error",
     "traceback": [
      "\u001b[0;31m---------------------------------------------------------------------------\u001b[0m",
      "\u001b[0;31mValueError\u001b[0m                                Traceback (most recent call last)",
      "\u001b[0;32m<ipython-input-68-15aa83d86f95>\u001b[0m in \u001b[0;36m<module>\u001b[0;34m\u001b[0m\n\u001b[0;32m----> 1\u001b[0;31m fig2 = px.choropleth_mapbox(\n\u001b[0m\u001b[1;32m      2\u001b[0m     \u001b[0mmapbox_style\u001b[0m\u001b[0;34m=\u001b[0m\u001b[0;34m'open-street-map'\u001b[0m\u001b[0;34m,\u001b[0m      \u001b[0;31m# see other styles: https://plotly.com/python/mapbox-layers/\u001b[0m\u001b[0;34m\u001b[0m\u001b[0;34m\u001b[0m\u001b[0m\n\u001b[1;32m      3\u001b[0m     \u001b[0mdata_frame\u001b[0m \u001b[0;34m=\u001b[0m \u001b[0mmerged_data\u001b[0m\u001b[0;34m,\u001b[0m                  \u001b[0;31m# dataframe that contains all years\u001b[0m\u001b[0;34m\u001b[0m\u001b[0;34m\u001b[0m\u001b[0m\n\u001b[1;32m      4\u001b[0m     \u001b[0mgeojson\u001b[0m\u001b[0;34m=\u001b[0m\u001b[0mjson_2000\u001b[0m\u001b[0;34m,\u001b[0m                   \u001b[0;31m# we can still use the JSON data from 2000, assuming the countries are the same over time\u001b[0m\u001b[0;34m\u001b[0m\u001b[0;34m\u001b[0m\u001b[0m\n\u001b[1;32m      5\u001b[0m     \u001b[0mfeatureidkey\u001b[0m\u001b[0;34m=\u001b[0m\u001b[0;34m'properties.ADMIN'\u001b[0m\u001b[0;34m,\u001b[0m      \u001b[0;31m# name of JSON key within the \"properties\" value that contains country names\u001b[0m\u001b[0;34m\u001b[0m\u001b[0;34m\u001b[0m\u001b[0m\n",
      "\u001b[0;32m~/opt/anaconda3/lib/python3.8/site-packages/plotly/express/_chart_types.py\u001b[0m in \u001b[0;36mchoropleth_mapbox\u001b[0;34m(data_frame, geojson, featureidkey, locations, color, hover_name, hover_data, custom_data, animation_frame, animation_group, category_orders, labels, color_discrete_sequence, color_discrete_map, color_continuous_scale, range_color, color_continuous_midpoint, opacity, zoom, center, mapbox_style, title, template, width, height)\u001b[0m\n\u001b[1;32m   1282\u001b[0m     \u001b[0mcolored\u001b[0m \u001b[0mregion\u001b[0m \u001b[0mon\u001b[0m \u001b[0ma\u001b[0m \u001b[0mMapbox\u001b[0m \u001b[0mmap\u001b[0m\u001b[0;34m.\u001b[0m\u001b[0;34m\u001b[0m\u001b[0;34m\u001b[0m\u001b[0m\n\u001b[1;32m   1283\u001b[0m     \"\"\"\n\u001b[0;32m-> 1284\u001b[0;31m     \u001b[0;32mreturn\u001b[0m \u001b[0mmake_figure\u001b[0m\u001b[0;34m(\u001b[0m\u001b[0margs\u001b[0m\u001b[0;34m=\u001b[0m\u001b[0mlocals\u001b[0m\u001b[0;34m(\u001b[0m\u001b[0;34m)\u001b[0m\u001b[0;34m,\u001b[0m \u001b[0mconstructor\u001b[0m\u001b[0;34m=\u001b[0m\u001b[0mgo\u001b[0m\u001b[0;34m.\u001b[0m\u001b[0mChoroplethmapbox\u001b[0m\u001b[0;34m)\u001b[0m\u001b[0;34m\u001b[0m\u001b[0;34m\u001b[0m\u001b[0m\n\u001b[0m\u001b[1;32m   1285\u001b[0m \u001b[0;34m\u001b[0m\u001b[0m\n\u001b[1;32m   1286\u001b[0m \u001b[0;34m\u001b[0m\u001b[0m\n",
      "\u001b[0;32m~/opt/anaconda3/lib/python3.8/site-packages/plotly/express/_core.py\u001b[0m in \u001b[0;36mmake_figure\u001b[0;34m(args, constructor, trace_patch, layout_patch)\u001b[0m\n\u001b[1;32m   1988\u001b[0m     \u001b[0mapply_default_cascade\u001b[0m\u001b[0;34m(\u001b[0m\u001b[0margs\u001b[0m\u001b[0;34m)\u001b[0m\u001b[0;34m\u001b[0m\u001b[0;34m\u001b[0m\u001b[0m\n\u001b[1;32m   1989\u001b[0m \u001b[0;34m\u001b[0m\u001b[0m\n\u001b[0;32m-> 1990\u001b[0;31m     \u001b[0margs\u001b[0m \u001b[0;34m=\u001b[0m \u001b[0mbuild_dataframe\u001b[0m\u001b[0;34m(\u001b[0m\u001b[0margs\u001b[0m\u001b[0;34m,\u001b[0m \u001b[0mconstructor\u001b[0m\u001b[0;34m)\u001b[0m\u001b[0;34m\u001b[0m\u001b[0;34m\u001b[0m\u001b[0m\n\u001b[0m\u001b[1;32m   1991\u001b[0m     \u001b[0;32mif\u001b[0m \u001b[0mconstructor\u001b[0m \u001b[0;32min\u001b[0m \u001b[0;34m[\u001b[0m\u001b[0mgo\u001b[0m\u001b[0;34m.\u001b[0m\u001b[0mTreemap\u001b[0m\u001b[0;34m,\u001b[0m \u001b[0mgo\u001b[0m\u001b[0;34m.\u001b[0m\u001b[0mSunburst\u001b[0m\u001b[0;34m,\u001b[0m \u001b[0mgo\u001b[0m\u001b[0;34m.\u001b[0m\u001b[0mIcicle\u001b[0m\u001b[0;34m]\u001b[0m \u001b[0;32mand\u001b[0m \u001b[0margs\u001b[0m\u001b[0;34m[\u001b[0m\u001b[0;34m\"path\"\u001b[0m\u001b[0;34m]\u001b[0m \u001b[0;32mis\u001b[0m \u001b[0;32mnot\u001b[0m \u001b[0;32mNone\u001b[0m\u001b[0;34m:\u001b[0m\u001b[0;34m\u001b[0m\u001b[0;34m\u001b[0m\u001b[0m\n\u001b[1;32m   1992\u001b[0m         \u001b[0margs\u001b[0m \u001b[0;34m=\u001b[0m \u001b[0mprocess_dataframe_hierarchy\u001b[0m\u001b[0;34m(\u001b[0m\u001b[0margs\u001b[0m\u001b[0;34m)\u001b[0m\u001b[0;34m\u001b[0m\u001b[0;34m\u001b[0m\u001b[0m\n",
      "\u001b[0;32m~/opt/anaconda3/lib/python3.8/site-packages/plotly/express/_core.py\u001b[0m in \u001b[0;36mbuild_dataframe\u001b[0;34m(args, constructor)\u001b[0m\n\u001b[1;32m   1403\u001b[0m     \u001b[0;31m# now that things have been prepped, we do the systematic rewriting of `args`\u001b[0m\u001b[0;34m\u001b[0m\u001b[0;34m\u001b[0m\u001b[0;34m\u001b[0m\u001b[0m\n\u001b[1;32m   1404\u001b[0m \u001b[0;34m\u001b[0m\u001b[0m\n\u001b[0;32m-> 1405\u001b[0;31m     df_output, wide_id_vars = process_args_into_dataframe(\n\u001b[0m\u001b[1;32m   1406\u001b[0m         \u001b[0margs\u001b[0m\u001b[0;34m,\u001b[0m \u001b[0mwide_mode\u001b[0m\u001b[0;34m,\u001b[0m \u001b[0mvar_name\u001b[0m\u001b[0;34m,\u001b[0m \u001b[0mvalue_name\u001b[0m\u001b[0;34m\u001b[0m\u001b[0;34m\u001b[0m\u001b[0m\n\u001b[1;32m   1407\u001b[0m     )\n",
      "\u001b[0;32m~/opt/anaconda3/lib/python3.8/site-packages/plotly/express/_core.py\u001b[0m in \u001b[0;36mprocess_args_into_dataframe\u001b[0;34m(args, wide_mode, var_name, value_name)\u001b[0m\n\u001b[1;32m   1205\u001b[0m                         \u001b[0;32mif\u001b[0m \u001b[0margument\u001b[0m \u001b[0;34m==\u001b[0m \u001b[0;34m\"index\"\u001b[0m\u001b[0;34m:\u001b[0m\u001b[0;34m\u001b[0m\u001b[0;34m\u001b[0m\u001b[0m\n\u001b[1;32m   1206\u001b[0m                             \u001b[0merr_msg\u001b[0m \u001b[0;34m+=\u001b[0m \u001b[0;34m\"\\n To use the index, pass it in directly as `df.index`.\"\u001b[0m\u001b[0;34m\u001b[0m\u001b[0;34m\u001b[0m\u001b[0m\n\u001b[0;32m-> 1207\u001b[0;31m                         \u001b[0;32mraise\u001b[0m \u001b[0mValueError\u001b[0m\u001b[0;34m(\u001b[0m\u001b[0merr_msg\u001b[0m\u001b[0;34m)\u001b[0m\u001b[0;34m\u001b[0m\u001b[0;34m\u001b[0m\u001b[0m\n\u001b[0m\u001b[1;32m   1208\u001b[0m                 \u001b[0;32melif\u001b[0m \u001b[0mlength\u001b[0m \u001b[0;32mand\u001b[0m \u001b[0mlen\u001b[0m\u001b[0;34m(\u001b[0m\u001b[0mdf_input\u001b[0m\u001b[0;34m[\u001b[0m\u001b[0margument\u001b[0m\u001b[0;34m]\u001b[0m\u001b[0;34m)\u001b[0m \u001b[0;34m!=\u001b[0m \u001b[0mlength\u001b[0m\u001b[0;34m:\u001b[0m\u001b[0;34m\u001b[0m\u001b[0;34m\u001b[0m\u001b[0m\n\u001b[1;32m   1209\u001b[0m                     raise ValueError(\n",
      "\u001b[0;31mValueError\u001b[0m: Value of 'animation_group' is not the name of a column in 'data_frame'. Expected one of ['featurecla', 'scalerank', 'LABELRANK', 'SOVEREIGNT', 'SOV_A3', 'ADM0_DIF', 'LEVEL', 'TYPE', 'TLC', 'ADMIN', 'ADM0_A3', 'GEOU_DIF', 'GEOUNIT', 'GU_A3', 'SU_DIF', 'SUBUNIT', 'SU_A3', 'BRK_DIFF', 'NAME', 'NAME_LONG', 'BRK_A3', 'BRK_NAME', 'BRK_GROUP', 'ABBREV', 'POSTAL', 'FORMAL_EN', 'FORMAL_FR', 'NAME_CIAWF', 'NOTE_ADM0', 'NOTE_BRK', 'NAME_SORT', 'NAME_ALT', 'MAPCOLOR7', 'MAPCOLOR8', 'MAPCOLOR9', 'MAPCOLOR13', 'POP_EST', 'POP_RANK', 'POP_YEAR', 'GDP_MD', 'GDP_YEAR', 'ECONOMY', 'INCOME_GRP', 'FIPS_10', 'ISO_A2', 'ISO_A2_EH', 'ISO_A3', 'ISO_A3_EH', 'ISO_N3', 'ISO_N3_EH', 'UN_A3', 'WB_A2', 'WB_A3', 'WOE_ID', 'WOE_ID_EH', 'WOE_NOTE', 'ADM0_ISO', 'ADM0_DIFF', 'ADM0_TLC', 'ADM0_A3_US', 'ADM0_A3_FR', 'ADM0_A3_RU', 'ADM0_A3_ES', 'ADM0_A3_CN', 'ADM0_A3_TW', 'ADM0_A3_IN', 'ADM0_A3_NP', 'ADM0_A3_PK', 'ADM0_A3_DE', 'ADM0_A3_GB', 'ADM0_A3_BR', 'ADM0_A3_IL', 'ADM0_A3_PS', 'ADM0_A3_SA', 'ADM0_A3_EG', 'ADM0_A3_MA', 'ADM0_A3_PT', 'ADM0_A3_AR', 'ADM0_A3_JP', 'ADM0_A3_KO', 'ADM0_A3_VN', 'ADM0_A3_TR', 'ADM0_A3_ID', 'ADM0_A3_PL', 'ADM0_A3_GR', 'ADM0_A3_IT', 'ADM0_A3_NL', 'ADM0_A3_SE', 'ADM0_A3_BD', 'ADM0_A3_UA', 'ADM0_A3_UN', 'ADM0_A3_WB', 'CONTINENT', 'REGION_UN', 'SUBREGION', 'REGION_WB', 'NAME_LEN', 'LONG_LEN', 'ABBREV_LEN', 'TINY', 'HOMEPART', 'MIN_ZOOM', 'MIN_LABEL', 'MAX_LABEL', 'LABEL_X', 'LABEL_Y', 'NE_ID', 'WIKIDATAID', 'NAME_AR', 'NAME_BN', 'NAME_DE', 'NAME_EN', 'NAME_ES', 'NAME_FA', 'NAME_FR', 'NAME_EL', 'NAME_HE', 'NAME_HI', 'NAME_HU', 'NAME_ID', 'NAME_IT', 'NAME_JA', 'NAME_KO', 'NAME_NL', 'NAME_PL', 'NAME_PT', 'NAME_RU', 'NAME_SV', 'NAME_TR', 'NAME_UK', 'NAME_UR', 'NAME_VI', 'NAME_ZH', 'NAME_ZHT', 'FCLASS_ISO', 'TLC_DIFF', 'FCLASS_TLC', 'FCLASS_US', 'FCLASS_FR', 'FCLASS_RU', 'FCLASS_ES', 'FCLASS_CN', 'FCLASS_TW', 'FCLASS_IN', 'FCLASS_NP', 'FCLASS_PK', 'FCLASS_DE', 'FCLASS_GB', 'FCLASS_BR', 'FCLASS_IL', 'FCLASS_PS', 'FCLASS_SA', 'FCLASS_EG', 'FCLASS_MA', 'FCLASS_PT', 'FCLASS_AR', 'FCLASS_JP', 'FCLASS_KO', 'FCLASS_VN', 'FCLASS_TR', 'FCLASS_ID', 'FCLASS_PL', 'FCLASS_GR', 'FCLASS_IT', 'FCLASS_NL', 'FCLASS_SE', 'FCLASS_BD', 'FCLASS_UA', 'geometry', 'Unnamed: 0', 'dt', 'AverageTemperature', 'AverageTemperatureUncertainty', 'decade', 'Year', 'CO2', 'population', 'methane', 'gdp'] but received: country"
     ]
    }
   ],
   "source": [
    "fig2 = px.choropleth_mapbox(\n",
    "    mapbox_style='open-street-map',      # see other styles: https://plotly.com/python/mapbox-layers/\n",
    "    data_frame = merged_data,                  # dataframe that contains all years\n",
    "    geojson=json_2000,                   # we can still use the JSON data from 2000, assuming the countries are the same over time\n",
    "    featureidkey='properties.ADMIN',      # name of JSON key within the \"properties\" value that contains country names\n",
    "    locations='ADMIN',                    # name of the dataframe column that contains country names\n",
    "    color='AverageTemperature',                       # name of the dataframe column that contains numerical data you want to display\n",
    "    center={\"lat\": 51.1657, \"lon\": 10.4515},\n",
    "    zoom=1,\n",
    "    animation_frame='Year',             # name of dataframe column that you want to make frames of\n",
    "    animation_group='ADMIN',   \n",
    "    color_continuous_scale=\"thermal\",    # see other options: https://plotly.com/python/builtin-colorscales/\n",
    "    range_color=(-50, 50),\n",
    "    color_continuous_midpoint=0)"
   ]
  },
  {
   "cell_type": "code",
   "execution_count": null,
   "metadata": {},
   "outputs": [],
   "source": [
    "fig2.write_html(\"all_years_interactive.html\", include_plotlyjs='cdn')"
   ]
  },
  {
   "cell_type": "code",
   "execution_count": null,
   "metadata": {},
   "outputs": [],
   "source": [
    "fig2.show()"
   ]
  }
 ],
 "metadata": {
  "kernelspec": {
   "display_name": "Python 3",
   "language": "python",
   "name": "python3"
  },
  "language_info": {
   "codemirror_mode": {
    "name": "ipython",
    "version": 3
   },
   "file_extension": ".py",
   "mimetype": "text/x-python",
   "name": "python",
   "nbconvert_exporter": "python",
   "pygments_lexer": "ipython3",
   "version": "3.8.3"
  }
 },
 "nbformat": 4,
 "nbformat_minor": 4
}
