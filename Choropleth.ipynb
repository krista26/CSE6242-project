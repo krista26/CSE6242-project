{
 "cells": [
  {
   "cell_type": "code",
   "execution_count": 1,
   "metadata": {},
   "outputs": [],
   "source": [
    "import pandas as pd\n",
    "import geopandas as gpd\n",
    "import plotly.express as px\n",
    "import json"
   ]
  },
  {
   "cell_type": "code",
   "execution_count": 2,
   "metadata": {},
   "outputs": [],
   "source": [
    "DATA = 'out.csv'"
   ]
  },
  {
   "cell_type": "code",
   "execution_count": 3,
   "metadata": {},
   "outputs": [],
   "source": [
    "df = pd.read_csv(DATA)"
   ]
  },
  {
   "cell_type": "code",
   "execution_count": 4,
   "metadata": {},
   "outputs": [
    {
     "name": "stdout",
     "output_type": "stream",
     "text": [
      "      Unnamed: 0  AverageTemperature      name  Year          CO2   methane  \\\n",
      "0              1           12.229000   Algeria  1960  512603.4092       NaN   \n",
      "1              2           11.106000   Algeria  1961  504659.7900       NaN   \n",
      "2              3           12.894000   Algeria  1962  471750.6508       NaN   \n",
      "3              4           14.224000   Algeria  1963  451596.1742       NaN   \n",
      "4              5           11.896000   Algeria  1964  470253.7000       NaN   \n",
      "...          ...                 ...       ...   ...          ...       ...   \n",
      "6787        6788           21.435084  Zimbabwe  2045  961353.2742  2.815485   \n",
      "6788        6789           21.435084  Zimbabwe  2046  961353.2742  2.815485   \n",
      "6789        6790           21.435084  Zimbabwe  2047  961353.2742  2.815485   \n",
      "6790        6791           21.435084  Zimbabwe  2048  961353.2742  2.815485   \n",
      "6791        6792           21.435084  Zimbabwe  2049  961353.2742  2.815485   \n",
      "\n",
      "               gdp  \n",
      "0     2.269661e+08  \n",
      "1     2.028939e+08  \n",
      "2     1.667857e+08  \n",
      "3     2.252467e+08  \n",
      "4     2.424411e+08  \n",
      "...            ...  \n",
      "6787  1.733878e+09  \n",
      "6788  1.733878e+09  \n",
      "6789  1.733878e+09  \n",
      "6790  1.733878e+09  \n",
      "6791  1.733878e+09  \n",
      "\n",
      "[6792 rows x 7 columns]\n"
     ]
    }
   ],
   "source": [
    "print(df)"
   ]
  },
  {
   "cell_type": "code",
   "execution_count": 5,
   "metadata": {},
   "outputs": [],
   "source": [
    "SHAPEFILE = 'world-countries.json'"
   ]
  },
  {
   "cell_type": "code",
   "execution_count": 7,
   "metadata": {},
   "outputs": [],
   "source": [
    "gdf = gpd.read_file(SHAPEFILE)"
   ]
  },
  {
   "cell_type": "code",
   "execution_count": 8,
   "metadata": {},
   "outputs": [
    {
     "name": "stdout",
     "output_type": "stream",
     "text": [
      "      id                  name  \\\n",
      "0    AFG           Afghanistan   \n",
      "1    AGO                Angola   \n",
      "2    ALB               Albania   \n",
      "3    ARE  United Arab Emirates   \n",
      "4    ARG             Argentina   \n",
      "..   ...                   ...   \n",
      "172  PSE             West Bank   \n",
      "173  YEM                 Yemen   \n",
      "174  ZAF          South Africa   \n",
      "175  ZMB                Zambia   \n",
      "176  ZWE              Zimbabwe   \n",
      "\n",
      "                                              geometry  \n",
      "0    POLYGON ((61.21082 35.65007, 62.23065 35.27066...  \n",
      "1    MULTIPOLYGON (((16.32653 -5.87747, 16.57318 -6...  \n",
      "2    POLYGON ((20.59025 41.85540, 20.46317 41.51509...  \n",
      "3    POLYGON ((51.57952 24.24550, 51.75744 24.29407...  \n",
      "4    MULTIPOLYGON (((-65.50000 -55.20000, -66.45000...  \n",
      "..                                                 ...  \n",
      "172  POLYGON ((35.54566 32.39399, 35.54525 31.78251...  \n",
      "173  POLYGON ((53.10857 16.65105, 52.38521 16.38241...  \n",
      "174  POLYGON ((31.52100 -29.25739, 31.32556 -29.401...  \n",
      "175  POLYGON ((32.75937 -9.23060, 33.23139 -9.67672...  \n",
      "176  POLYGON ((31.19141 -22.25151, 30.65986 -22.151...  \n",
      "\n",
      "[177 rows x 3 columns]\n"
     ]
    }
   ],
   "source": [
    "print(gdf)"
   ]
  },
  {
   "cell_type": "code",
   "execution_count": 9,
   "metadata": {},
   "outputs": [],
   "source": [
    "merged_data = gdf.merge(df, on='name')"
   ]
  },
  {
   "cell_type": "code",
   "execution_count": 10,
   "metadata": {},
   "outputs": [
    {
     "name": "stdout",
     "output_type": "stream",
     "text": [
      "    id       name                                           geometry  \\\n",
      "0  AUS  Australia  MULTIPOLYGON (((145.39798 -40.79255, 146.36412...   \n",
      "1  AUS  Australia  MULTIPOLYGON (((145.39798 -40.79255, 146.36412...   \n",
      "2  AUS  Australia  MULTIPOLYGON (((145.39798 -40.79255, 146.36412...   \n",
      "3  AUS  Australia  MULTIPOLYGON (((145.39798 -40.79255, 146.36412...   \n",
      "4  AUS  Australia  MULTIPOLYGON (((145.39798 -40.79255, 146.36412...   \n",
      "\n",
      "   Unnamed: 0  AverageTemperature  Year          CO2  methane           gdp  \n",
      "0          55              28.445  1960  7343241.663      NaN  1.550566e+09  \n",
      "1          56              28.154  1961  7541991.376      NaN  1.640255e+09  \n",
      "2          57              27.743  1962  7901954.613      NaN  1.660227e+09  \n",
      "3          58              27.314  1963  8411188.708      NaN  1.794994e+09  \n",
      "4          59              27.734  1964  9072980.508      NaN  1.983425e+09  \n"
     ]
    }
   ],
   "source": [
    "print(merged_data.head())"
   ]
  },
  {
   "cell_type": "code",
   "execution_count": 11,
   "metadata": {},
   "outputs": [],
   "source": [
    "gjs = merged_data.to_json()"
   ]
  },
  {
   "cell_type": "code",
   "execution_count": 12,
   "metadata": {},
   "outputs": [],
   "source": [
    "json_2000 = json.loads(gjs)"
   ]
  },
  {
   "cell_type": "code",
   "execution_count": 19,
   "metadata": {},
   "outputs": [],
   "source": [
    "fig2 = px.choropleth_mapbox(\n",
    "    mapbox_style='open-street-map',     \n",
    "    data_frame = merged_data,                  \n",
    "    geojson=gdf,            \n",
    "    featureidkey='properties.name',      \n",
    "    locations='name',          \n",
    "    color='AverageTemperature',             \n",
    "    center={\"lat\": 51.1657, \"lon\": 10.4515},\n",
    "    zoom=1,\n",
    "    hover_data = ['CO2', 'methane','gdp'],\n",
    "    animation_frame='Year',             \n",
    "    animation_group='name',   \n",
    "    color_continuous_scale=\"thermal\",   \n",
    "    range_color=(-50, 50),\n",
    "    color_continuous_midpoint=0)"
   ]
  },
  {
   "cell_type": "code",
   "execution_count": 20,
   "metadata": {},
   "outputs": [],
   "source": [
    "fig2.write_html(\"all_years_interactive.html\", include_plotlyjs='cdn')"
   ]
  },
  {
   "cell_type": "code",
   "execution_count": null,
   "metadata": {},
   "outputs": [],
   "source": [
    "fig2.show()"
   ]
  }
 ],
 "metadata": {
  "kernelspec": {
   "display_name": "Python 3",
   "language": "python",
   "name": "python3"
  },
  "language_info": {
   "codemirror_mode": {
    "name": "ipython",
    "version": 3
   },
   "file_extension": ".py",
   "mimetype": "text/x-python",
   "name": "python",
   "nbconvert_exporter": "python",
   "pygments_lexer": "ipython3",
   "version": "3.8.3"
  }
 },
 "nbformat": 4,
 "nbformat_minor": 4
}
