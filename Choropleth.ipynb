{
 "cells": [
  {
   "cell_type": "code",
   "execution_count": 10,
   "metadata": {},
   "outputs": [],
   "source": [
    "import pandas as pd\n",
    "import geopandas as gpd\n",
    "import plotly.express as px\n",
    "import json"
   ]
  },
  {
   "cell_type": "code",
   "execution_count": 11,
   "metadata": {},
   "outputs": [],
   "source": [
    "DATA = 'out.csv'"
   ]
  },
  {
   "cell_type": "code",
   "execution_count": 12,
   "metadata": {},
   "outputs": [],
   "source": [
    "df = pd.read_csv(DATA)"
   ]
  },
  {
   "cell_type": "code",
   "execution_count": 13,
   "metadata": {},
   "outputs": [
    {
     "name": "stdout",
     "output_type": "stream",
     "text": [
      "       Unnamed: 0  AverageTemperature         name  Year            CO2  \\\n",
      "0               0            0.159000  Afghanistan  1950    7022.666667   \n",
      "1               1            0.648000  Afghanistan  1951    7633.333333   \n",
      "2               2            1.198000  Afghanistan  1952    7633.333333   \n",
      "3               3            2.097000  Afghanistan  1953    8854.666667   \n",
      "4               4            1.333000  Afghanistan  1954    8854.666667   \n",
      "...           ...                 ...          ...   ...            ...   \n",
      "17863       17863           21.434514     Zimbabwe  2045  961353.274200   \n",
      "17864       17864           21.434514     Zimbabwe  2046  961353.274200   \n",
      "17865       17865           21.434514     Zimbabwe  2047  961353.274200   \n",
      "17866       17866           21.434514     Zimbabwe  2048  961353.274200   \n",
      "17867       17867           21.434514     Zimbabwe  2049  961353.274200   \n",
      "\n",
      "       population   methane  gdp  \n",
      "0       7752117.0       NaN  NaN  \n",
      "1       7752117.0       NaN  NaN  \n",
      "2       7752117.0       NaN  NaN  \n",
      "3       7752117.0       NaN  NaN  \n",
      "4       7752117.0       NaN  NaN  \n",
      "...           ...       ...  ...  \n",
      "17863         NaN  2.815485  0.0  \n",
      "17864         NaN  2.815485  0.0  \n",
      "17865         NaN  2.815485  0.0  \n",
      "17866         NaN  2.815485  0.0  \n",
      "17867         NaN  2.815485  0.0  \n",
      "\n",
      "[17868 rows x 8 columns]\n"
     ]
    }
   ],
   "source": [
    "print(df)"
   ]
  },
  {
   "cell_type": "code",
   "execution_count": 14,
   "metadata": {},
   "outputs": [],
   "source": [
    "SHAPEFILE = 'world-countries.json'"
   ]
  },
  {
   "cell_type": "code",
   "execution_count": 16,
   "metadata": {},
   "outputs": [],
   "source": [
    "gdf = gpd.read_file(SHAPEFILE)"
   ]
  },
  {
   "cell_type": "code",
   "execution_count": 17,
   "metadata": {},
   "outputs": [
    {
     "name": "stdout",
     "output_type": "stream",
     "text": [
      "      id                  name  \\\n",
      "0    AFG           Afghanistan   \n",
      "1    AGO                Angola   \n",
      "2    ALB               Albania   \n",
      "3    ARE  United Arab Emirates   \n",
      "4    ARG             Argentina   \n",
      "..   ...                   ...   \n",
      "172  PSE             West Bank   \n",
      "173  YEM                 Yemen   \n",
      "174  ZAF          South Africa   \n",
      "175  ZMB                Zambia   \n",
      "176  ZWE              Zimbabwe   \n",
      "\n",
      "                                              geometry  \n",
      "0    POLYGON ((61.21082 35.65007, 62.23065 35.27066...  \n",
      "1    MULTIPOLYGON (((16.32653 -5.87747, 16.57318 -6...  \n",
      "2    POLYGON ((20.59025 41.85540, 20.46317 41.51509...  \n",
      "3    POLYGON ((51.57952 24.24550, 51.75744 24.29407...  \n",
      "4    MULTIPOLYGON (((-65.50000 -55.20000, -66.45000...  \n",
      "..                                                 ...  \n",
      "172  POLYGON ((35.54566 32.39399, 35.54525 31.78251...  \n",
      "173  POLYGON ((53.10857 16.65105, 52.38521 16.38241...  \n",
      "174  POLYGON ((31.52100 -29.25739, 31.32556 -29.401...  \n",
      "175  POLYGON ((32.75937 -9.23060, 33.23139 -9.67672...  \n",
      "176  POLYGON ((31.19141 -22.25151, 30.65986 -22.151...  \n",
      "\n",
      "[177 rows x 3 columns]\n"
     ]
    }
   ],
   "source": [
    "print(gdf)"
   ]
  },
  {
   "cell_type": "code",
   "execution_count": 18,
   "metadata": {},
   "outputs": [],
   "source": [
    "merged_data = gdf.merge(df, on='name')"
   ]
  },
  {
   "cell_type": "code",
   "execution_count": 19,
   "metadata": {},
   "outputs": [
    {
     "name": "stdout",
     "output_type": "stream",
     "text": [
      "    id         name                                           geometry  \\\n",
      "0  AFG  Afghanistan  POLYGON ((61.21082 35.65007, 62.23065 35.27066...   \n",
      "1  AFG  Afghanistan  POLYGON ((61.21082 35.65007, 62.23065 35.27066...   \n",
      "2  AFG  Afghanistan  POLYGON ((61.21082 35.65007, 62.23065 35.27066...   \n",
      "3  AFG  Afghanistan  POLYGON ((61.21082 35.65007, 62.23065 35.27066...   \n",
      "4  AFG  Afghanistan  POLYGON ((61.21082 35.65007, 62.23065 35.27066...   \n",
      "\n",
      "   Unnamed: 0  AverageTemperature  Year          CO2  population  methane  gdp  \n",
      "0           0               0.159  1950  7022.666667   7752117.0      NaN  NaN  \n",
      "1           1               0.648  1951  7633.333333   7752117.0      NaN  NaN  \n",
      "2           2               1.198  1952  7633.333333   7752117.0      NaN  NaN  \n",
      "3           3               2.097  1953  8854.666667   7752117.0      NaN  NaN  \n",
      "4           4               1.333  1954  8854.666667   7752117.0      NaN  NaN  \n"
     ]
    }
   ],
   "source": [
    "print(merged_data.head())"
   ]
  },
  {
   "cell_type": "code",
   "execution_count": 20,
   "metadata": {},
   "outputs": [],
   "source": [
    "gjs = merged_data.to_json()"
   ]
  },
  {
   "cell_type": "code",
   "execution_count": 21,
   "metadata": {},
   "outputs": [],
   "source": [
    "json_2000 = json.loads(gjs)"
   ]
  },
  {
   "cell_type": "code",
   "execution_count": 22,
   "metadata": {},
   "outputs": [],
   "source": [
    "fig2 = px.choropleth_mapbox(\n",
    "    mapbox_style='open-street-map',     \n",
    "    data_frame = merged_data,                  \n",
    "    geojson=gdf,            \n",
    "    featureidkey='properties.name',      \n",
    "    locations='name',          \n",
    "    color='AverageTemperature',             \n",
    "    center={\"lat\": 51.1657, \"lon\": 10.4515},\n",
    "    zoom=1,\n",
    "    hover_data = ['CO2', 'methane','gdp'],\n",
    "    animation_frame='Year',             \n",
    "    animation_group='name',   \n",
    "    color_continuous_scale=\"thermal\",   \n",
    "    range_color=(-50, 50),\n",
    "    color_continuous_midpoint=0)"
   ]
  },
  {
   "cell_type": "code",
   "execution_count": 23,
   "metadata": {},
   "outputs": [],
   "source": [
    "fig2.write_html(\"all_years_interactive.html\", include_plotlyjs='cdn')"
   ]
  },
  {
   "cell_type": "code",
   "execution_count": null,
   "metadata": {},
   "outputs": [],
   "source": [
    "fig2.show()"
   ]
  }
 ],
 "metadata": {
  "kernelspec": {
   "display_name": "Python 3",
   "language": "python",
   "name": "python3"
  },
  "language_info": {
   "codemirror_mode": {
    "name": "ipython",
    "version": 3
   },
   "file_extension": ".py",
   "mimetype": "text/x-python",
   "name": "python",
   "nbconvert_exporter": "python",
   "pygments_lexer": "ipython3",
   "version": "3.8.3"
  }
 },
 "nbformat": 4,
 "nbformat_minor": 4
}
